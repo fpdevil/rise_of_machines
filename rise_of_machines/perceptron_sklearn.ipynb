{
 "cells": [
  {
   "cell_type": "markdown",
   "metadata": {},
   "source": [
    "*Data Classification using the Perceptron from the standard Scikit-Learn library sklearn* [sklearn](http://scikit-learn.org/stable/modules/classes.html)"
   ]
  },
  {
   "cell_type": "markdown",
   "metadata": {},
   "source": [
    "# scikit-learn - Training the Perceptron"
   ]
  },
  {
   "cell_type": "markdown",
   "metadata": {},
   "source": [
    "scikit-learn provides a ready dataset of iris flower features consists of 3 different types of irises’ (Setosa, Versicolour, and Virginica) petal and sepal length, stored in a 150x4 numpy.ndarray.\n",
    "\n",
    "Here is what each column of the iris dataset is divided into\n",
    "column 1 - sepal length\n",
    "column 2 - sepal width\n",
    "column 3 - petal length\n",
    "column 4 - petal width\n",
    "\n",
    "The flower classes are already converted into integer labels with\n",
    "0 : Iris-Setosa,\n",
    "1 : Iris-Versicolor\n",
    "2 : Iris-Virginica\n",
    "\n",
    "Using integer labels improves the computational efficiency of the algorithm due to a smaller memory footprint and also such encoding of the class labels as integers is a common convention among many machine learning libraries."
   ]
  },
  {
   "cell_type": "markdown",
   "metadata": {},
   "source": [
    "Load the necessary libraries and the iris dataset."
   ]
  },
  {
   "cell_type": "code",
   "execution_count": 3,
   "metadata": {},
   "outputs": [
    {
     "name": "stdout",
     "output_type": "stream",
     "text": [
      "feature names: ['sepal length (cm)', 'sepal width (cm)', 'petal length (cm)', 'petal width (cm)']\n",
      "target names: ['setosa', 'versicolor', 'virginica']\n"
     ]
    }
   ],
   "source": [
    "import numpy as np\n",
    "from sklearn.datasets import load_iris\n",
    "\n",
    "from IPython.display import display, Math, Latex\n",
    "\n",
    "# now fetch the iris data set\n",
    "iris = load_iris()\n",
    "\n",
    "# list the feature names\n",
    "print(\"feature names: {}\".format(list(iris.feature_names)))\n",
    "\n",
    "# list the target names\n",
    "print(\"target names: {}\".format(list(iris.target_names)))"
   ]
  },
  {
   "cell_type": "markdown",
   "metadata": {},
   "source": [
    "Now assign the iris dataset to variables so that we can continue with the training and classification"
   ]
  },
  {
   "cell_type": "code",
   "execution_count": 4,
   "metadata": {},
   "outputs": [
    {
     "name": "stdout",
     "output_type": "stream",
     "text": [
      "unique target class labels: [0 1 2]\n"
     ]
    }
   ],
   "source": [
    "# assign the data to variables\n",
    "X = iris.data[:, [2, 3]]\n",
    "y = iris.target\n",
    "\n",
    "# get the unique class labels from the target\n",
    "print('unique target class labels: {}'.format(np.unique(y)))"
   ]
  },
  {
   "cell_type": "markdown",
   "metadata": {},
   "source": [
    "Now, as a part of the training the model inorder the verify how good our model performs we can split the dataset into separate training and test datasets. Once the model is trained on the training dataset, the same may be validated using the test dataset. Here we are going to use the scikit-learn provided [splitter function] (http://scikit-learn.org/stable/modules/generated/sklearn.model_selection.train_test_split.html#sklearn.model_selection.train_test_split) to split the dataset.\n",
    "\n",
    "We shall split the data in the ration of 70% for training and 30% for test dataset."
   ]
  },
  {
   "cell_type": "code",
   "execution_count": 5,
   "metadata": {},
   "outputs": [],
   "source": [
    "from sklearn.model_selection import train_test_split\n",
    "\n",
    "# The function would shuffle the data before splitting the same.\n",
    "# If we do not want it to be shuffled, specify the argument,\n",
    "# shuffle=False in the train_test_split function\n",
    "X_train, X_test, y_train, y_test = train_test_split(X, y, test_size=0.3, random_state=1, stratify=y)"
   ]
  },
  {
   "cell_type": "markdown",
   "metadata": {},
   "source": [
    "The `stratify=y` specified in the function ensures that the training and testing datasets have the same proportion of class labels as the input dataset.\n",
    "\n",
    "The `numpy` provided function `bincount` can give us details about the number of occurrences of each value in a collection."
   ]
  },
  {
   "cell_type": "code",
   "execution_count": 6,
   "metadata": {},
   "outputs": [
    {
     "name": "stdout",
     "output_type": "stream",
     "text": [
      "Count of Labels in y:  [50 50 50]\n",
      "Count of Labels in y_train:  [35 35 35]\n",
      "Count of Labels in y_test:  [15 15 15]\n"
     ]
    }
   ],
   "source": [
    "print('Count of Labels in y: ', np.bincount(y))\n",
    "print('Count of Labels in y_train: ', np.bincount(y_train))\n",
    "print('Count of Labels in y_test: ', np.bincount(y_test))"
   ]
  },
  {
   "cell_type": "markdown",
   "metadata": {},
   "source": [
    "## Standardizing the features\n",
    "\n",
    "While training machine learning algorithms, one of the techniques that will speed up your trainings is if your features are scaled. Most of the machine learning algorithms would need standardization or feature scaling before being fed for training.\n",
    "\n",
    "`scikit-learn` provides 3 feature scaling methods as below.\n",
    "\n",
    "- StandardScaler\n",
    "- MinMaxScaler\n",
    "- RobustScaler\n",
    "\n",
    "*StandardScaler*\n",
    "\n",
    "The `StandardScaler` assumes that your data is normally distributed within each feature, and it'll scale them such that the distribution is now defined as below:\n",
    "\n",
    "- centered around 0\n",
    "- with a standard deviation of 1.\n",
    "\n",
    "The mean and standard deviation are separately calculated for the feature, and the feature is then scaled based on the below formula:\n",
    "\n",
    "$${x_i - mean(x)} \\over {stddev(x)}$$"
   ]
  },
  {
   "cell_type": "code",
   "execution_count": 7,
   "metadata": {},
   "outputs": [
    {
     "name": "stdout",
     "output_type": "stream",
     "text": [
      "Mean of the training data:  [3.78952381 1.19714286]\n"
     ]
    }
   ],
   "source": [
    "from sklearn.preprocessing import StandardScaler\n",
    "\n",
    "scaler = StandardScaler()\n",
    "# compute the mean and std to be used for later scaling\n",
    "scaler.fit(X_train)\n",
    "# perform standardization by centering and scaling\n",
    "X_train_std = scaler.transform(X_train)\n",
    "X_test_std = scaler.transform(X_test)\n",
    "# compute the mean value\n",
    "print('Mean of the training data: ', scaler.mean_)"
   ]
  },
  {
   "cell_type": "markdown",
   "metadata": {},
   "source": [
    "## Now train the Perceptron using the `scikit-learn`"
   ]
  },
  {
   "cell_type": "markdown",
   "metadata": {},
   "source": [
    "Using the [Perceptron] (http://scikit-learn.org/stable/modules/generated/sklearn.linear_model.Perceptron.html#sklearn.linear_model.Perceptron) model as defined by the `scikit-learn`"
   ]
  },
  {
   "cell_type": "code",
   "execution_count": 8,
   "metadata": {},
   "outputs": [
    {
     "data": {
      "text/plain": [
       "Perceptron(alpha=0.0001, class_weight=None, early_stopping=False, eta0=0.1,\n",
       "      fit_intercept=True, max_iter=40, n_iter=None, n_iter_no_change=5,\n",
       "      n_jobs=None, penalty=None, random_state=1, shuffle=True, tol=None,\n",
       "      validation_fraction=0.1, verbose=0, warm_start=False)"
      ]
     },
     "execution_count": 8,
     "metadata": {},
     "output_type": "execute_result"
    }
   ],
   "source": [
    "from sklearn.linear_model import Perceptron\n",
    "\n",
    "# assign the Perceptron as a classifier\n",
    "clf = Perceptron(max_iter=40, eta0=0.1, random_state=1)\n",
    "clf.fit(X_train_std, y_train)"
   ]
  },
  {
   "cell_type": "markdown",
   "metadata": {},
   "source": [
    "### Predict class labels for samples in X_test_std"
   ]
  },
  {
   "cell_type": "code",
   "execution_count": 9,
   "metadata": {},
   "outputs": [
    {
     "name": "stdout",
     "output_type": "stream",
     "text": [
      "Number of samples Misclassified: 9\n"
     ]
    }
   ],
   "source": [
    "y_pred = clf.predict(X_test_std)\n",
    "print('Number of samples Misclassified: %d' % (y_test != y_pred).sum())"
   ]
  },
  {
   "cell_type": "markdown",
   "metadata": {},
   "source": [
    "### Calculation of the Accuracy Classification Score\n",
    "\n",
    "Here we compute the subset accuracy, which is a means to check if the entire set of labels predicted for a sample match with the true set of labels.\n",
    "If it matches, the accuracy is 1.0; otherwise it is 0.0."
   ]
  },
  {
   "cell_type": "code",
   "execution_count": 10,
   "metadata": {},
   "outputs": [
    {
     "name": "stdout",
     "output_type": "stream",
     "text": [
      "\n",
      "**** Model Performance ****\n",
      "Accuracy Score: 0.80\n",
      "Mean Square Error: 0.2000\n",
      "Explained variance score: 0.7600\n"
     ]
    }
   ],
   "source": [
    "from sklearn.metrics import accuracy_score, mean_squared_error, explained_variance_score\n",
    "\n",
    "acs = accuracy_score(y_test, y_pred)\n",
    "mse = mean_squared_error(y_test, y_pred)\n",
    "evs = explained_variance_score(y_test, y_pred)\n",
    "\n",
    "print(\"\\n**** Model Performance ****\")\n",
    "print('Accuracy Score: %.2f' % acs)\n",
    "print('Mean Square Error: %.4f' % mse)\n",
    "print('Explained variance score: %.4f' % evs)"
   ]
  },
  {
   "cell_type": "markdown",
   "metadata": {},
   "source": [
    "Get the mean accuracy on the given test dataset and test labels"
   ]
  },
  {
   "cell_type": "code",
   "execution_count": 12,
   "metadata": {},
   "outputs": [
    {
     "name": "stdout",
     "output_type": "stream",
     "text": [
      "Mean Accuracy: 0.80\n"
     ]
    }
   ],
   "source": [
    "print('Mean Accuracy: %.2f' % clf.score(X_test_std, y_test))"
   ]
  },
  {
   "cell_type": "markdown",
   "metadata": {},
   "source": [
    "### Plotting the decision boundary"
   ]
  },
  {
   "cell_type": "code",
   "execution_count": 11,
   "metadata": {},
   "outputs": [],
   "source": [
    "import matplotlib.pyplot as plt\n",
    "# from matplotlib.colors import ListedColormap\n",
    "\n",
    "def create_meshgrid(x, y, margin=1, step=0.02):\n",
    "    \"\"\"Create a numoy rectangular meshgrid out of an array of\n",
    "    x values and an array of y values\n",
    "\n",
    "    :x: array-like point x\n",
    "    :y: array-like point y\n",
    "    :margin: (int) boundary acts as a buffer\n",
    "    :step: (float) stepping the values, default = 0.02\n",
    "\n",
    "    Examples\n",
    "    --------\n",
    "    x = np.array([0, 1, 2, 3, 4])\n",
    "    y = np.array([0, 1, 2, 3, 4])\n",
    "    xx,yy=np.meshgrid(x,y)\n",
    "    plt.plot(xx,yy, marker='.', color='k',linestyle='none')\n",
    "\n",
    "    \"\"\"\n",
    "    x_min, x_max = x.min() - margin, x.max() + margin\n",
    "    y_min, y_max = y.min() - margin, y.max() + margin\n",
    "    # for plotting the boundaries, we need to evaluate the\n",
    "    # function across a grid of points and plot it\n",
    "    # default step size for mesh grid is 0.01\n",
    "    xx, yy = np.meshgrid(np.arange(x_min, x_max, step),\n",
    "                         np.arange(y_min, y_max, step))\n",
    "    return xx, yy\n",
    "\n",
    "\n",
    "def plot_decision_boundary(X, y, classifier, margin=1, step_size=0.01, test_index=None):\n",
    "    \n",
    "    markers = ('s', 'x', 'o', '^', 'v')\n",
    "    colors = ('red', 'blue', 'lightgreen', 'gray', 'cyan')\n",
    "    # cmap = ListedColormap(colors[:len(np.unique(y))])\n",
    "    \n",
    "    # set-up grid for plotting.\n",
    "    X0, X1 = X[:, 0], X[:, 1]\n",
    "    xx, yy = create_meshgrid(X0, X1, margin, step_size)\n",
    "\n",
    "    mesh = np.array([xx.ravel(), yy.ravel()])\n",
    "    # print(\"np.array: {}\", format(mesh))\n",
    "    # here the x_values and y_values will now hold the grid\n",
    "    # of points where the function will be evaluated\n",
    "    mesh_output = classifier.predict(mesh.T)\n",
    "    mesh_output = mesh_output.reshape(xx.shape)\n",
    "    \n",
    "    # pick a color scheme\n",
    "    # plt.pcolormesh(xx, yy, mesh_output, cmap=plt.cm.gray)\n",
    "    plt.contourf(xx, yy, mesh_output, alpha=0.3, cmap=plt.cm.gray)\n",
    "    # plt.contourf(xx, yy, mesh_output, alpha=0.3, cmap=cmap)\n",
    "\n",
    "    # now do an overlay of the training coordinates over the mesh\n",
    "    plt.xlim(xx.min(), xx.max())\n",
    "    plt.ylim(yy.min(), yy.max())\n",
    "    plt.xticks((np.arange(int(min(X[:, 0]) - 1), int(max(X[:, 0]) + 1), 1.0)))\n",
    "    plt.yticks((np.arange(int(min(X[:, 1]) - 1), int(max(X[:, 1]) + 1), 1.0)))\n",
    "    \n",
    "    # plt.scatter(X[:, 0], X[:, 1], c=y, s=80, edgecolor='yellow', linewidth=1, cmap=plt.cm.Paired)\n",
    "    for i, cl in enumerate(np.unique(y)):\n",
    "        plt.scatter(x=X[y == cl, 0], \n",
    "                    y=X[y == cl, 1],\n",
    "                    alpha=0.8, \n",
    "                    marker=markers[i], \n",
    "                    label=cl, \n",
    "                    edgecolor='purple')\n",
    "\n",
    "        \n",
    "    # highlight the test samples after plotting\n",
    "    if test_index:\n",
    "        # plot all samples\n",
    "        X_test, y_test = X[test_index, :], y[test_index]\n",
    "        plt.scatter(X_test[:, 0],\n",
    "                    X_test[:, 1],\n",
    "                    c='',\n",
    "                    edgecolor='purple',\n",
    "                    alpha=1.0,\n",
    "                    linewidth=1,\n",
    "                    marker='o',\n",
    "                    s=100, \n",
    "                    label='test dataset')"
   ]
  },
  {
   "cell_type": "markdown",
   "metadata": {},
   "source": [
    "Now train the perceptron model using the standardized training data:"
   ]
  },
  {
   "cell_type": "code",
   "execution_count": 12,
   "metadata": {},
   "outputs": [
    {
     "data": {
      "image/png": "[encoded data removed]",
      "text/plain": [
       "<Figure size 432x288 with 1 Axes>"
      ]
     },
     "metadata": {
      "needs_background": "light"
     },
     "output_type": "display_data"
    }
   ],
   "source": [
    "X_combined_std = np.vstack((X_train_std, X_test_std))\n",
    "y_combined = np.hstack((y_train, y_test))\n",
    "\n",
    "plot_decision_boundary(X=X_combined_std,\n",
    "                       y=y_combined,\n",
    "                       classifier=clf,\n",
    "                       test_index=range(105, 150))\n",
    "\n",
    "title = ('Perceptron based classification using sklearn')\n",
    "plt.title(title)\n",
    "plt.xlabel('petal length [standardized]')\n",
    "plt.ylabel('petal width [standardized]')\n",
    "plt.legend(loc='upper left')\n",
    "\n",
    "plt.tight_layout()\n",
    "plt.show()"
   ]
  },
  {
   "cell_type": "markdown",
   "metadata": {},
   "source": [
    "As evident from the above figure the three flower classes could not be perfectly sperated by a linear decision boundary. Infact the `Perceptron` model never converges on datasets which aren't perfectly lineary seperable, which is the reason why the usage of `Perceptron` algorithm is typically not recommended in practice."
   ]
  }
 ],
 "metadata": {
  "anaconda-cloud": {},
  "kernelspec": {
   "display_name": "Python 3",
   "language": "python",
   "name": "python3"
  },
  "language_info": {
   "codemirror_mode": {
    "name": "ipython",
    "version": 3
   },
   "file_extension": ".py",
   "mimetype": "text/x-python",
   "name": "python",
   "nbconvert_exporter": "python",
   "pygments_lexer": "ipython3",
   "version": "3.7.0"
  },
  "toc": {
   "nav_menu": {},
   "number_sections": true,
   "sideBar": true,
   "skip_h1_title": false,
   "title_cell": "Table of Contents",
   "title_sidebar": "Contents",
   "toc_cell": false,
   "toc_position": {},
   "toc_section_display": true,
   "toc_window_display": false
  }
 },
 "nbformat": 4,
 "nbformat_minor": 1
}
